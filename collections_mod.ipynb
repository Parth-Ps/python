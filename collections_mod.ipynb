{
 "metadata": {
  "name": "",
  "signature": "sha256:552f788a6df76e6ce2b5286fb525ce726b4f1f120ec42ceb190111e63fa4e4a8"
 },
 "nbformat": 3,
 "nbformat_minor": 0,
 "worksheets": [
  {
   "cells": [
    {
     "cell_type": "code",
     "collapsed": false,
     "input": [
      "from collections import defaultdict\n",
      "s = [('yellow', 1), ('blue', 2), ('yellow', 3), ('blue', 4), ('red', 1)]\n",
      "d = defaultdict(list)\n",
      "for k, v in s:\n",
      "    d[k].append(v)\n",
      "d.items()"
     ],
     "language": "python",
     "metadata": {},
     "outputs": [
      {
       "metadata": {},
       "output_type": "pyout",
       "prompt_number": 4,
       "text": [
        "[('blue', [2, 4]), ('red', [1]), ('yellow', [1, 3])]"
       ]
      }
     ],
     "prompt_number": 4
    },
    {
     "cell_type": "code",
     "collapsed": false,
     "input": [],
     "language": "python",
     "metadata": {},
     "outputs": []
    }
   ],
   "metadata": {}
  }
 ]
}